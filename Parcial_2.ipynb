{
 "cells": [
  {
   "cell_type": "markdown",
   "id": "1703d8f8",
   "metadata": {},
   "source": [
    "# Parcial de Machine Learnig\n",
    "\n",
    "#### Estudiantes\n",
    "\n",
    "* Edgar Piña Cuentas\n",
    "* Fernando Andres Gomez Gonzalez"
   ]
  },
  {
   "cell_type": "markdown",
   "id": "e5543603",
   "metadata": {},
   "source": [
    "#### Pregunta Problema\n",
    "* ¿Es posible identificar la orientación política de un usuario de twitter españa en base a un tweet?\n",
    "* ¿Pueden los clasificadores Softmax y SVM predecir con seguridad la orientación política de un usuario de twitter españa?\n",
    "\n",
    "#### Hipótesis\n",
    "* Existen patrones sintácticos asociados cada ideología política que hacen posible el identificar a que partido pertenece\n"
   ]
  },
  {
   "cell_type": "markdown",
   "id": "0e4e7f29",
   "metadata": {},
   "source": [
    "# Librerias"
   ]
  },
  {
   "cell_type": "code",
   "execution_count": 1,
   "id": "bbebcdeb",
   "metadata": {
    "id": "bbebcdeb"
   },
   "outputs": [],
   "source": [
    "#Librerias\n",
    "#Gestion de datos\n",
    "import io\n",
    "import sys\n",
    "PATH = \"C:/Users/edgui/Desktop/Universidad/8vo Semestre/Machine Learning/Parcial 2/\"\n",
    "sys.path.append(PATH) if PATH not in list(sys.path) else None\n",
    "import pandas as pd\n",
    "import seaborn as sns\n",
    "import numpy as np\n",
    "import spacy\n",
    "from sklearn import preprocessing\n",
    "from sklearn import svm\n",
    "import pickle\n",
    "\n",
    "# Visualización - Graficas\n",
    "import matplotlib.pyplot as plt\n",
    "import missingno as msno\n",
    "from collections import Counter\n",
    "\n",
    "#Procesamiento de datos\n",
    "from sklearn.feature_extraction.text import TfidfTransformer\n",
    "from sklearn.feature_extraction.text import TfidfVectorizer\n",
    "from sklearn.feature_extraction.text import CountVectorizer\n",
    "import re\n",
    "import unicodedata\n",
    "from sklearn.linear_model import LogisticRegression\n",
    "from sklearn.preprocessing import LabelEncoder\n",
    "from sklearn.base import BaseEstimator, TransformerMixin\n",
    "from sklearn.pipeline import FeatureUnion\n",
    "from imblearn.over_sampling import RandomOverSampler\n",
    "from sklearn.model_selection import train_test_split, cross_val_score, ShuffleSplit\n",
    " \n",
    "\n",
    "from text_processing import TextProcessing as tp\n",
    "\n",
    "#Metricas\n",
    "from sklearn.metrics import confusion_matrix\n",
    "from sklearn.metrics import classification_report\n",
    "from sklearn.metrics import f1_score, accuracy_score, precision_score, recall_score"
   ]
  },
  {
   "cell_type": "markdown",
   "id": "9c5da344",
   "metadata": {},
   "source": [
    "# Contenido del Dataset\n",
    "\n",
    "#### El dataset (copus) esta formado por:\n",
    "\n",
    "* **cuenta**: Nombre de la cuenta de twitter (haseada) que escribe el tweet.\n",
    "* **partido**: Partido político al que pertenece el usuario\n",
    "* **timestamp**: Instante en el que se publicó el tweet.\n",
    "* **tweet**: Contenido textual del tweet.\n"
   ]
  },
  {
   "cell_type": "markdown",
   "id": "77e28004",
   "metadata": {},
   "source": [
    "# Lectura de Datos"
   ]
  },
  {
   "cell_type": "code",
   "execution_count": 2,
   "id": "31cbd599",
   "metadata": {
    "colab": {
     "base_uri": "https://localhost:8080/",
     "height": 204
    },
    "id": "31cbd599",
    "outputId": "1984fa1a-6f7a-4c15-90a9-f7218c8e8832"
   },
   "outputs": [
    {
     "data": {
      "text/html": [
       "<div>\n",
       "<style scoped>\n",
       "    .dataframe tbody tr th:only-of-type {\n",
       "        vertical-align: middle;\n",
       "    }\n",
       "\n",
       "    .dataframe tbody tr th {\n",
       "        vertical-align: top;\n",
       "    }\n",
       "\n",
       "    .dataframe thead th {\n",
       "        text-align: right;\n",
       "    }\n",
       "</style>\n",
       "<table border=\"1\" class=\"dataframe\">\n",
       "  <thead>\n",
       "    <tr style=\"text-align: right;\">\n",
       "      <th></th>\n",
       "      <th>cuenta</th>\n",
       "      <th>partido</th>\n",
       "      <th>timestamp</th>\n",
       "      <th>tweet</th>\n",
       "    </tr>\n",
       "  </thead>\n",
       "  <tbody>\n",
       "    <tr>\n",
       "      <th>0</th>\n",
       "      <td>a34133350b0605cb24081843f63176ca</td>\n",
       "      <td>psoe</td>\n",
       "      <td>1.363973e+09</td>\n",
       "      <td>@vesteve3 @manubenas @ccoo_rm @desobediencia_ ...</td>\n",
       "    </tr>\n",
       "    <tr>\n",
       "      <th>1</th>\n",
       "      <td>a34133350b0605cb24081843f63176ca</td>\n",
       "      <td>psoe</td>\n",
       "      <td>1.364061e+09</td>\n",
       "      <td>“@kirovast: @Hugo_Moran muy fan de la \"radical...</td>\n",
       "    </tr>\n",
       "    <tr>\n",
       "      <th>2</th>\n",
       "      <td>a34133350b0605cb24081843f63176ca</td>\n",
       "      <td>psoe</td>\n",
       "      <td>1.364117e+09</td>\n",
       "      <td>@ALTAS_PRESIONES Nuevos dueños para las renova...</td>\n",
       "    </tr>\n",
       "    <tr>\n",
       "      <th>3</th>\n",
       "      <td>a34133350b0605cb24081843f63176ca</td>\n",
       "      <td>psoe</td>\n",
       "      <td>1.364121e+09</td>\n",
       "      <td>@jumanjisolar @solartradex @josea_dolera El di...</td>\n",
       "    </tr>\n",
       "    <tr>\n",
       "      <th>4</th>\n",
       "      <td>a34133350b0605cb24081843f63176ca</td>\n",
       "      <td>psoe</td>\n",
       "      <td>1.364153e+09</td>\n",
       "      <td>“@cesarnayu: https://t.co/J4OTXj1x7w … Por fav...</td>\n",
       "    </tr>\n",
       "  </tbody>\n",
       "</table>\n",
       "</div>"
      ],
      "text/plain": [
       "                             cuenta partido     timestamp  \\\n",
       "0  a34133350b0605cb24081843f63176ca    psoe  1.363973e+09   \n",
       "1  a34133350b0605cb24081843f63176ca    psoe  1.364061e+09   \n",
       "2  a34133350b0605cb24081843f63176ca    psoe  1.364117e+09   \n",
       "3  a34133350b0605cb24081843f63176ca    psoe  1.364121e+09   \n",
       "4  a34133350b0605cb24081843f63176ca    psoe  1.364153e+09   \n",
       "\n",
       "                                               tweet  \n",
       "0  @vesteve3 @manubenas @ccoo_rm @desobediencia_ ...  \n",
       "1  “@kirovast: @Hugo_Moran muy fan de la \"radical...  \n",
       "2  @ALTAS_PRESIONES Nuevos dueños para las renova...  \n",
       "3  @jumanjisolar @solartradex @josea_dolera El di...  \n",
       "4  “@cesarnayu: https://t.co/J4OTXj1x7w … Por fav...  "
      ]
     },
     "execution_count": 2,
     "metadata": {},
     "output_type": "execute_result"
    }
   ],
   "source": [
    "#Lectura de datos\n",
    "df = pd.read_csv(PATH + 'tweets_politica_kaggle.csv', sep='\\t')\n",
    "df.head()"
   ]
  },
  {
   "cell_type": "markdown",
   "id": "24b60751",
   "metadata": {},
   "source": [
    "## Analisis de datos iniciales"
   ]
  },
  {
   "cell_type": "code",
   "execution_count": 3,
   "id": "aadfc272",
   "metadata": {
    "colab": {
     "base_uri": "https://localhost:8080/"
    },
    "id": "aadfc272",
    "outputId": "0774ccc6-6502-425d-b6f6-02249419521b"
   },
   "outputs": [
    {
     "name": "stdout",
     "output_type": "stream",
     "text": [
      "<class 'pandas.core.frame.DataFrame'>\n",
      "RangeIndex: 130039 entries, 0 to 130038\n",
      "Data columns (total 4 columns):\n",
      " #   Column     Non-Null Count   Dtype  \n",
      "---  ------     --------------   -----  \n",
      " 0   cuenta     130039 non-null  object \n",
      " 1   partido    130029 non-null  object \n",
      " 2   timestamp  130029 non-null  float64\n",
      " 3   tweet      130029 non-null  object \n",
      "dtypes: float64(1), object(3)\n",
      "memory usage: 4.0+ MB\n"
     ]
    }
   ],
   "source": [
    "#Info\n",
    "df.info()"
   ]
  },
  {
   "cell_type": "code",
   "execution_count": 4,
   "id": "134b8ef0",
   "metadata": {
    "colab": {
     "base_uri": "https://localhost:8080/"
    },
    "id": "134b8ef0",
    "outputId": "75ccd4ff-63f9-402d-aeec-f74a4c994e97"
   },
   "outputs": [
    {
     "name": "stdout",
     "output_type": "stream",
     "text": [
      "Numero de filas:  130039\n",
      "Numero de columnas:  4\n"
     ]
    }
   ],
   "source": [
    "#Numero de registros y caracteristicas\n",
    "print('Numero de filas: ', df.shape[0])\n",
    "print('Numero de columnas: ', df.shape[1])"
   ]
  },
  {
   "cell_type": "markdown",
   "id": "db81939b",
   "metadata": {},
   "source": [
    "## Limpieza de datos"
   ]
  },
  {
   "cell_type": "markdown",
   "id": "5b377e1b",
   "metadata": {},
   "source": [
    "### Eliminacion de valores nulos"
   ]
  },
  {
   "cell_type": "code",
   "execution_count": 5,
   "id": "63fe7768",
   "metadata": {
    "colab": {
     "base_uri": "https://localhost:8080/",
     "height": 708
    },
    "id": "63fe7768",
    "outputId": "a3446868-451d-48be-a1b3-cebab0825fe8"
   },
   "outputs": [
    {
     "data": {
      "image/png": "[encoded data removed]",
      "text/plain": [
       "<Figure size 1800x720 with 3 Axes>"
      ]
     },
     "metadata": {
      "needs_background": "light"
     },
     "output_type": "display_data"
    }
   ],
   "source": [
    "## Analisis de valores nulos\n",
    "p = msno.bar(df)"
   ]
  },
  {
   "cell_type": "code",
   "execution_count": 6,
   "id": "36b83756",
   "metadata": {
    "colab": {
     "base_uri": "https://localhost:8080/",
     "height": 419
    },
    "id": "36b83756",
    "outputId": "36f5d395-048d-46af-d23a-1ececf05a0a4"
   },
   "outputs": [
    {
     "data": {
      "text/html": [
       "<div>\n",
       "<style scoped>\n",
       "    .dataframe tbody tr th:only-of-type {\n",
       "        vertical-align: middle;\n",
       "    }\n",
       "\n",
       "    .dataframe tbody tr th {\n",
       "        vertical-align: top;\n",
       "    }\n",
       "\n",
       "    .dataframe thead th {\n",
       "        text-align: right;\n",
       "    }\n",
       "</style>\n",
       "<table border=\"1\" class=\"dataframe\">\n",
       "  <thead>\n",
       "    <tr style=\"text-align: right;\">\n",
       "      <th></th>\n",
       "      <th>cuenta</th>\n",
       "      <th>partido</th>\n",
       "      <th>timestamp</th>\n",
       "      <th>tweet</th>\n",
       "    </tr>\n",
       "  </thead>\n",
       "  <tbody>\n",
       "    <tr>\n",
       "      <th>0</th>\n",
       "      <td>a34133350b0605cb24081843f63176ca</td>\n",
       "      <td>psoe</td>\n",
       "      <td>1.363973e+09</td>\n",
       "      <td>@vesteve3 @manubenas @ccoo_rm @desobediencia_ ...</td>\n",
       "    </tr>\n",
       "    <tr>\n",
       "      <th>1</th>\n",
       "      <td>a34133350b0605cb24081843f63176ca</td>\n",
       "      <td>psoe</td>\n",
       "      <td>1.364061e+09</td>\n",
       "      <td>“@kirovast: @Hugo_Moran muy fan de la \"radical...</td>\n",
       "    </tr>\n",
       "    <tr>\n",
       "      <th>2</th>\n",
       "      <td>a34133350b0605cb24081843f63176ca</td>\n",
       "      <td>psoe</td>\n",
       "      <td>1.364117e+09</td>\n",
       "      <td>@ALTAS_PRESIONES Nuevos dueños para las renova...</td>\n",
       "    </tr>\n",
       "    <tr>\n",
       "      <th>3</th>\n",
       "      <td>a34133350b0605cb24081843f63176ca</td>\n",
       "      <td>psoe</td>\n",
       "      <td>1.364121e+09</td>\n",
       "      <td>@jumanjisolar @solartradex @josea_dolera El di...</td>\n",
       "    </tr>\n",
       "    <tr>\n",
       "      <th>4</th>\n",
       "      <td>a34133350b0605cb24081843f63176ca</td>\n",
       "      <td>psoe</td>\n",
       "      <td>1.364153e+09</td>\n",
       "      <td>“@cesarnayu: https://t.co/J4OTXj1x7w … Por fav...</td>\n",
       "    </tr>\n",
       "    <tr>\n",
       "      <th>...</th>\n",
       "      <td>...</td>\n",
       "      <td>...</td>\n",
       "      <td>...</td>\n",
       "      <td>...</td>\n",
       "    </tr>\n",
       "    <tr>\n",
       "      <th>130024</th>\n",
       "      <td>2a5fcd1034beb5bd30bf5a1528008d81</td>\n",
       "      <td>psoe</td>\n",
       "      <td>1.633250e+09</td>\n",
       "      <td>Qué maravilla, visitar #LaRioja en #vendimia🍇,...</td>\n",
       "    </tr>\n",
       "    <tr>\n",
       "      <th>130025</th>\n",
       "      <td>1e826d8471835f7feb02f8028b736ebb</td>\n",
       "      <td>pp</td>\n",
       "      <td>1.633250e+09</td>\n",
       "      <td>“Querido Pablo, nos complace tu voluntad de re...</td>\n",
       "    </tr>\n",
       "    <tr>\n",
       "      <th>130026</th>\n",
       "      <td>aeaa6ce266f823338e7d2222032a9edd</td>\n",
       "      <td>psoe</td>\n",
       "      <td>1.633250e+09</td>\n",
       "      <td>Quiero reivindicar la buena política, la de fr...</td>\n",
       "    </tr>\n",
       "    <tr>\n",
       "      <th>130027</th>\n",
       "      <td>aeaa6ce266f823338e7d2222032a9edd</td>\n",
       "      <td>psoe</td>\n",
       "      <td>1.633250e+09</td>\n",
       "      <td>🙋🏻‍♀️El pasado viernes se cumplió el aniversar...</td>\n",
       "    </tr>\n",
       "    <tr>\n",
       "      <th>130028</th>\n",
       "      <td>1e826d8471835f7feb02f8028b736ebb</td>\n",
       "      <td>pp</td>\n",
       "      <td>1.633250e+09</td>\n",
       "      <td>“Para nosotros la cuestión no es Europa sí o n...</td>\n",
       "    </tr>\n",
       "  </tbody>\n",
       "</table>\n",
       "<p>130029 rows × 4 columns</p>\n",
       "</div>"
      ],
      "text/plain": [
       "                                  cuenta partido     timestamp  \\\n",
       "0       a34133350b0605cb24081843f63176ca    psoe  1.363973e+09   \n",
       "1       a34133350b0605cb24081843f63176ca    psoe  1.364061e+09   \n",
       "2       a34133350b0605cb24081843f63176ca    psoe  1.364117e+09   \n",
       "3       a34133350b0605cb24081843f63176ca    psoe  1.364121e+09   \n",
       "4       a34133350b0605cb24081843f63176ca    psoe  1.364153e+09   \n",
       "...                                  ...     ...           ...   \n",
       "130024  2a5fcd1034beb5bd30bf5a1528008d81    psoe  1.633250e+09   \n",
       "130025  1e826d8471835f7feb02f8028b736ebb      pp  1.633250e+09   \n",
       "130026  aeaa6ce266f823338e7d2222032a9edd    psoe  1.633250e+09   \n",
       "130027  aeaa6ce266f823338e7d2222032a9edd    psoe  1.633250e+09   \n",
       "130028  1e826d8471835f7feb02f8028b736ebb      pp  1.633250e+09   \n",
       "\n",
       "                                                    tweet  \n",
       "0       @vesteve3 @manubenas @ccoo_rm @desobediencia_ ...  \n",
       "1       “@kirovast: @Hugo_Moran muy fan de la \"radical...  \n",
       "2       @ALTAS_PRESIONES Nuevos dueños para las renova...  \n",
       "3       @jumanjisolar @solartradex @josea_dolera El di...  \n",
       "4       “@cesarnayu: https://t.co/J4OTXj1x7w … Por fav...  \n",
       "...                                                   ...  \n",
       "130024  Qué maravilla, visitar #LaRioja en #vendimia🍇,...  \n",
       "130025  “Querido Pablo, nos complace tu voluntad de re...  \n",
       "130026  Quiero reivindicar la buena política, la de fr...  \n",
       "130027  🙋🏻‍♀️El pasado viernes se cumplió el aniversar...  \n",
       "130028  “Para nosotros la cuestión no es Europa sí o n...  \n",
       "\n",
       "[130029 rows x 4 columns]"
      ]
     },
     "execution_count": 6,
     "metadata": {},
     "output_type": "execute_result"
    }
   ],
   "source": [
    "#Eliminacion de filas con valores nulos\n",
    "df_clean= df.dropna()\n",
    "df_clean"
   ]
  },
  {
   "cell_type": "code",
   "execution_count": 7,
   "id": "299f366c",
   "metadata": {
    "colab": {
     "base_uri": "https://localhost:8080/",
     "height": 708
    },
    "id": "299f366c",
    "outputId": "4ee19f6e-af95-4372-ff16-2c896feab7f6"
   },
   "outputs": [
    {
     "data": {
      "image/png": "[encoded data removed]",
      "text/plain": [
       "<Figure size 1800x720 with 3 Axes>"
      ]
     },
     "metadata": {
      "needs_background": "light"
     },
     "output_type": "display_data"
    }
   ],
   "source": [
    "p = msno.bar(df_clean)"
   ]
  },
  {
   "cell_type": "markdown",
   "id": "62f903ca",
   "metadata": {},
   "source": [
    "### Eliminacion de filas repetidas"
   ]
  },
  {
   "cell_type": "code",
   "execution_count": 8,
   "id": "0858b657",
   "metadata": {
    "colab": {
     "base_uri": "https://localhost:8080/"
    },
    "id": "0858b657",
    "outputId": "1205aea3-bf4a-475d-d15f-04b5863f0fc2"
   },
   "outputs": [
    {
     "name": "stdout",
     "output_type": "stream",
     "text": [
      "Hay 374 datos repetidos.\n"
     ]
    }
   ],
   "source": [
    "#Verificar filas duplicadas\n",
    "y=0\n",
    "for i in df_clean.duplicated():\n",
    "    if i==True:\n",
    "        y+=1\n",
    "print(\"Hay\",y, \"datos repetidos.\")\n",
    "    "
   ]
  },
  {
   "cell_type": "code",
   "execution_count": 9,
   "id": "87af3f05",
   "metadata": {
    "colab": {
     "base_uri": "https://localhost:8080/",
     "height": 419
    },
    "id": "87af3f05",
    "outputId": "e0e41ddc-9f91-4243-ad37-b7680fdfd137"
   },
   "outputs": [],
   "source": [
    "#Limpieza de valores duplicados\n",
    "df_final=df_clean.drop_duplicates() "
   ]
  },
  {
   "cell_type": "markdown",
   "id": "ed45992b",
   "metadata": {},
   "source": [
    "### Eliminacion de Valores Atipicos"
   ]
  },
  {
   "cell_type": "code",
   "execution_count": 10,
   "id": "935c7f20",
   "metadata": {},
   "outputs": [],
   "source": [
    "def pocos(a):\n",
    "    z = []\n",
    "    for i,y in a.iterrows():\n",
    "        if len(y['tweet']) < 4:\n",
    "            z.append(i)\n",
    "    return z"
   ]
  },
  {
   "cell_type": "code",
   "execution_count": 11,
   "id": "105e2ed8",
   "metadata": {},
   "outputs": [
    {
     "data": {
      "text/plain": [
       "[30414, 45203, 104996, 118383]"
      ]
     },
     "execution_count": 11,
     "metadata": {},
     "output_type": "execute_result"
    }
   ],
   "source": [
    "lis = pocos(df_final)\n",
    "lis"
   ]
  },
  {
   "cell_type": "code",
   "execution_count": 12,
   "id": "a63d2897",
   "metadata": {},
   "outputs": [],
   "source": [
    "df_final=df_final.drop(index=lis)"
   ]
  },
  {
   "cell_type": "markdown",
   "id": "b3445791",
   "metadata": {},
   "source": [
    "## Analisis de los datos limpios"
   ]
  },
  {
   "cell_type": "code",
   "execution_count": 13,
   "id": "6a2b00e3",
   "metadata": {},
   "outputs": [
    {
     "data": {
      "text/html": [
       "<div>\n",
       "<style scoped>\n",
       "    .dataframe tbody tr th:only-of-type {\n",
       "        vertical-align: middle;\n",
       "    }\n",
       "\n",
       "    .dataframe tbody tr th {\n",
       "        vertical-align: top;\n",
       "    }\n",
       "\n",
       "    .dataframe thead th {\n",
       "        text-align: right;\n",
       "    }\n",
       "</style>\n",
       "<table border=\"1\" class=\"dataframe\">\n",
       "  <thead>\n",
       "    <tr style=\"text-align: right;\">\n",
       "      <th></th>\n",
       "      <th>cuenta</th>\n",
       "      <th>partido</th>\n",
       "      <th>timestamp</th>\n",
       "      <th>tweet</th>\n",
       "    </tr>\n",
       "  </thead>\n",
       "  <tbody>\n",
       "    <tr>\n",
       "      <th>0</th>\n",
       "      <td>a34133350b0605cb24081843f63176ca</td>\n",
       "      <td>psoe</td>\n",
       "      <td>1.363973e+09</td>\n",
       "      <td>@vesteve3 @manubenas @ccoo_rm @desobediencia_ ...</td>\n",
       "    </tr>\n",
       "    <tr>\n",
       "      <th>1</th>\n",
       "      <td>a34133350b0605cb24081843f63176ca</td>\n",
       "      <td>psoe</td>\n",
       "      <td>1.364061e+09</td>\n",
       "      <td>“@kirovast: @Hugo_Moran muy fan de la \"radical...</td>\n",
       "    </tr>\n",
       "    <tr>\n",
       "      <th>2</th>\n",
       "      <td>a34133350b0605cb24081843f63176ca</td>\n",
       "      <td>psoe</td>\n",
       "      <td>1.364117e+09</td>\n",
       "      <td>@ALTAS_PRESIONES Nuevos dueños para las renova...</td>\n",
       "    </tr>\n",
       "    <tr>\n",
       "      <th>3</th>\n",
       "      <td>a34133350b0605cb24081843f63176ca</td>\n",
       "      <td>psoe</td>\n",
       "      <td>1.364121e+09</td>\n",
       "      <td>@jumanjisolar @solartradex @josea_dolera El di...</td>\n",
       "    </tr>\n",
       "    <tr>\n",
       "      <th>4</th>\n",
       "      <td>a34133350b0605cb24081843f63176ca</td>\n",
       "      <td>psoe</td>\n",
       "      <td>1.364153e+09</td>\n",
       "      <td>“@cesarnayu: https://t.co/J4OTXj1x7w … Por fav...</td>\n",
       "    </tr>\n",
       "    <tr>\n",
       "      <th>...</th>\n",
       "      <td>...</td>\n",
       "      <td>...</td>\n",
       "      <td>...</td>\n",
       "      <td>...</td>\n",
       "    </tr>\n",
       "    <tr>\n",
       "      <th>130024</th>\n",
       "      <td>2a5fcd1034beb5bd30bf5a1528008d81</td>\n",
       "      <td>psoe</td>\n",
       "      <td>1.633250e+09</td>\n",
       "      <td>Qué maravilla, visitar #LaRioja en #vendimia🍇,...</td>\n",
       "    </tr>\n",
       "    <tr>\n",
       "      <th>130025</th>\n",
       "      <td>1e826d8471835f7feb02f8028b736ebb</td>\n",
       "      <td>pp</td>\n",
       "      <td>1.633250e+09</td>\n",
       "      <td>“Querido Pablo, nos complace tu voluntad de re...</td>\n",
       "    </tr>\n",
       "    <tr>\n",
       "      <th>130026</th>\n",
       "      <td>aeaa6ce266f823338e7d2222032a9edd</td>\n",
       "      <td>psoe</td>\n",
       "      <td>1.633250e+09</td>\n",
       "      <td>Quiero reivindicar la buena política, la de fr...</td>\n",
       "    </tr>\n",
       "    <tr>\n",
       "      <th>130027</th>\n",
       "      <td>aeaa6ce266f823338e7d2222032a9edd</td>\n",
       "      <td>psoe</td>\n",
       "      <td>1.633250e+09</td>\n",
       "      <td>🙋🏻‍♀️El pasado viernes se cumplió el aniversar...</td>\n",
       "    </tr>\n",
       "    <tr>\n",
       "      <th>130028</th>\n",
       "      <td>1e826d8471835f7feb02f8028b736ebb</td>\n",
       "      <td>pp</td>\n",
       "      <td>1.633250e+09</td>\n",
       "      <td>“Para nosotros la cuestión no es Europa sí o n...</td>\n",
       "    </tr>\n",
       "  </tbody>\n",
       "</table>\n",
       "<p>129651 rows × 4 columns</p>\n",
       "</div>"
      ],
      "text/plain": [
       "                                  cuenta partido     timestamp  \\\n",
       "0       a34133350b0605cb24081843f63176ca    psoe  1.363973e+09   \n",
       "1       a34133350b0605cb24081843f63176ca    psoe  1.364061e+09   \n",
       "2       a34133350b0605cb24081843f63176ca    psoe  1.364117e+09   \n",
       "3       a34133350b0605cb24081843f63176ca    psoe  1.364121e+09   \n",
       "4       a34133350b0605cb24081843f63176ca    psoe  1.364153e+09   \n",
       "...                                  ...     ...           ...   \n",
       "130024  2a5fcd1034beb5bd30bf5a1528008d81    psoe  1.633250e+09   \n",
       "130025  1e826d8471835f7feb02f8028b736ebb      pp  1.633250e+09   \n",
       "130026  aeaa6ce266f823338e7d2222032a9edd    psoe  1.633250e+09   \n",
       "130027  aeaa6ce266f823338e7d2222032a9edd    psoe  1.633250e+09   \n",
       "130028  1e826d8471835f7feb02f8028b736ebb      pp  1.633250e+09   \n",
       "\n",
       "                                                    tweet  \n",
       "0       @vesteve3 @manubenas @ccoo_rm @desobediencia_ ...  \n",
       "1       “@kirovast: @Hugo_Moran muy fan de la \"radical...  \n",
       "2       @ALTAS_PRESIONES Nuevos dueños para las renova...  \n",
       "3       @jumanjisolar @solartradex @josea_dolera El di...  \n",
       "4       “@cesarnayu: https://t.co/J4OTXj1x7w … Por fav...  \n",
       "...                                                   ...  \n",
       "130024  Qué maravilla, visitar #LaRioja en #vendimia🍇,...  \n",
       "130025  “Querido Pablo, nos complace tu voluntad de re...  \n",
       "130026  Quiero reivindicar la buena política, la de fr...  \n",
       "130027  🙋🏻‍♀️El pasado viernes se cumplió el aniversar...  \n",
       "130028  “Para nosotros la cuestión no es Europa sí o n...  \n",
       "\n",
       "[129651 rows x 4 columns]"
      ]
     },
     "execution_count": 13,
     "metadata": {},
     "output_type": "execute_result"
    }
   ],
   "source": [
    "df_final"
   ]
  },
  {
   "cell_type": "code",
   "execution_count": 14,
   "id": "ECbELSet3zU7",
   "metadata": {
    "colab": {
     "base_uri": "https://localhost:8080/"
    },
    "id": "ECbELSet3zU7",
    "outputId": "02e0cbf4-667e-4f26-f40b-ccfdea72a00c"
   },
   "outputs": [
    {
     "name": "stdout",
     "output_type": "stream",
     "text": [
      "<class 'pandas.core.frame.DataFrame'>\n",
      "Int64Index: 129651 entries, 0 to 130028\n",
      "Data columns (total 4 columns):\n",
      " #   Column     Non-Null Count   Dtype  \n",
      "---  ------     --------------   -----  \n",
      " 0   cuenta     129651 non-null  object \n",
      " 1   partido    129651 non-null  object \n",
      " 2   timestamp  129651 non-null  float64\n",
      " 3   tweet      129651 non-null  object \n",
      "dtypes: float64(1), object(3)\n",
      "memory usage: 4.9+ MB\n"
     ]
    }
   ],
   "source": [
    "#Info\n",
    "df_final.info()"
   ]
  },
  {
   "cell_type": "code",
   "execution_count": 15,
   "id": "fb3125a9",
   "metadata": {
    "colab": {
     "base_uri": "https://localhost:8080/",
     "height": 204
    },
    "id": "fb3125a9",
    "outputId": "2dd6f65c-2886-4063-d322-2334e47206bd"
   },
   "outputs": [
    {
     "data": {
      "text/html": [
       "<div>\n",
       "<style scoped>\n",
       "    .dataframe tbody tr th:only-of-type {\n",
       "        vertical-align: middle;\n",
       "    }\n",
       "\n",
       "    .dataframe tbody tr th {\n",
       "        vertical-align: top;\n",
       "    }\n",
       "\n",
       "    .dataframe thead th {\n",
       "        text-align: right;\n",
       "    }\n",
       "</style>\n",
       "<table border=\"1\" class=\"dataframe\">\n",
       "  <thead>\n",
       "    <tr style=\"text-align: right;\">\n",
       "      <th></th>\n",
       "      <th>partido</th>\n",
       "      <th>tweet</th>\n",
       "    </tr>\n",
       "  </thead>\n",
       "  <tbody>\n",
       "    <tr>\n",
       "      <th>0</th>\n",
       "      <td>ciudadanos</td>\n",
       "      <td>23454</td>\n",
       "    </tr>\n",
       "    <tr>\n",
       "      <th>1</th>\n",
       "      <td>podemos</td>\n",
       "      <td>24790</td>\n",
       "    </tr>\n",
       "    <tr>\n",
       "      <th>2</th>\n",
       "      <td>pp</td>\n",
       "      <td>26119</td>\n",
       "    </tr>\n",
       "    <tr>\n",
       "      <th>3</th>\n",
       "      <td>psoe</td>\n",
       "      <td>28786</td>\n",
       "    </tr>\n",
       "    <tr>\n",
       "      <th>4</th>\n",
       "      <td>vox</td>\n",
       "      <td>26502</td>\n",
       "    </tr>\n",
       "  </tbody>\n",
       "</table>\n",
       "</div>"
      ],
      "text/plain": [
       "      partido  tweet\n",
       "0  ciudadanos  23454\n",
       "1     podemos  24790\n",
       "2          pp  26119\n",
       "3        psoe  28786\n",
       "4         vox  26502"
      ]
     },
     "execution_count": 15,
     "metadata": {},
     "output_type": "execute_result"
    }
   ],
   "source": [
    "#Conteo de tweets por partido\n",
    "tweet_by_class = df_final.groupby(\"partido\", as_index=False)['tweet'].count()\n",
    "tweet_by_class"
   ]
  },
  {
   "cell_type": "code",
   "execution_count": 16,
   "id": "c2ec3f3d",
   "metadata": {
    "colab": {
     "base_uri": "https://localhost:8080/",
     "height": 404
    },
    "id": "c2ec3f3d",
    "outputId": "a421ea4c-74cc-449d-e135-b8974388b209"
   },
   "outputs": [
    {
     "name": "stderr",
     "output_type": "stream",
     "text": [
      "C:\\Users\\edgui\\anaconda3\\lib\\site-packages\\seaborn\\_decorators.py:36: FutureWarning: Pass the following variables as keyword args: x, y. From version 0.12, the only valid positional argument will be `data`, and passing other arguments without an explicit keyword will result in an error or misinterpretation.\n",
      "  warnings.warn(\n"
     ]
    },
    {
     "data": {
      "image/png": "[encoded data removed]",
      "text/plain": [
       "<Figure size 1080x360 with 1 Axes>"
      ]
     },
     "metadata": {
      "needs_background": "light"
     },
     "output_type": "display_data"
    }
   ],
   "source": [
    "#Frecuencia de clases\n",
    "plt.figure(figsize=(15,5))\n",
    "sns.barplot(tweet_by_class['partido'].values, tweet_by_class['tweet'].values, alpha=0.8)\n",
    "plt.title('Class Frequency by tweet')\n",
    "plt.ylabel('tweet', fontsize=10)\n",
    "plt.xlabel('partido', fontsize=10)\n",
    "plt.show()"
   ]
  },
  {
   "cell_type": "code",
   "execution_count": 17,
   "id": "0727f211",
   "metadata": {
    "colab": {
     "base_uri": "https://localhost:8080/",
     "height": 279
    },
    "id": "0727f211",
    "outputId": "20b2a4de-1ecb-4fb1-b4f7-98b4ff61127f"
   },
   "outputs": [
    {
     "data": {
      "image/png": "[encoded data removed]",
      "text/plain": [
       "<Figure size 432x288 with 1 Axes>"
      ]
     },
     "metadata": {
      "needs_background": "light"
     },
     "output_type": "display_data"
    }
   ],
   "source": [
    "## distribución y balance en el tipo de datos\n",
    "df_scrubbed = df_final.copy(deep = True)\n",
    "sns.countplot(y=df_scrubbed.dtypes.map(str))\n",
    "plt.xlabel(\"cantidad\")\n",
    "plt.ylabel(\"tipo de dato\")\n",
    "plt.show()"
   ]
  },
  {
   "cell_type": "markdown",
   "id": "41088a28",
   "metadata": {},
   "source": [
    "### Aplicacion de Label Encoding para la variable objetivo"
   ]
  },
  {
   "cell_type": "markdown",
   "id": "40c21a95",
   "metadata": {},
   "source": [
    "* 0 - Ciudadanos\n",
    "* 1 - Podemos\n",
    "* 2 - PP\n",
    "* 3 - Psoe\n",
    "* 4 - Vox"
   ]
  },
  {
   "cell_type": "code",
   "execution_count": 18,
   "id": "OJ2yOGhyMz_P",
   "metadata": {
    "colab": {
     "base_uri": "https://localhost:8080/",
     "height": 521
    },
    "id": "OJ2yOGhyMz_P",
    "outputId": "7c30d46c-dca7-449d-9823-99c4797850b8"
   },
   "outputs": [
    {
     "data": {
      "text/html": [
       "<div>\n",
       "<style scoped>\n",
       "    .dataframe tbody tr th:only-of-type {\n",
       "        vertical-align: middle;\n",
       "    }\n",
       "\n",
       "    .dataframe tbody tr th {\n",
       "        vertical-align: top;\n",
       "    }\n",
       "\n",
       "    .dataframe thead th {\n",
       "        text-align: right;\n",
       "    }\n",
       "</style>\n",
       "<table border=\"1\" class=\"dataframe\">\n",
       "  <thead>\n",
       "    <tr style=\"text-align: right;\">\n",
       "      <th></th>\n",
       "      <th>cuenta</th>\n",
       "      <th>partido</th>\n",
       "      <th>timestamp</th>\n",
       "      <th>tweet</th>\n",
       "    </tr>\n",
       "  </thead>\n",
       "  <tbody>\n",
       "    <tr>\n",
       "      <th>0</th>\n",
       "      <td>a34133350b0605cb24081843f63176ca</td>\n",
       "      <td>3</td>\n",
       "      <td>1.363973e+09</td>\n",
       "      <td>@vesteve3 @manubenas @ccoo_rm @desobediencia_ ...</td>\n",
       "    </tr>\n",
       "    <tr>\n",
       "      <th>1</th>\n",
       "      <td>a34133350b0605cb24081843f63176ca</td>\n",
       "      <td>3</td>\n",
       "      <td>1.364061e+09</td>\n",
       "      <td>“@kirovast: @Hugo_Moran muy fan de la \"radical...</td>\n",
       "    </tr>\n",
       "    <tr>\n",
       "      <th>2</th>\n",
       "      <td>a34133350b0605cb24081843f63176ca</td>\n",
       "      <td>3</td>\n",
       "      <td>1.364117e+09</td>\n",
       "      <td>@ALTAS_PRESIONES Nuevos dueños para las renova...</td>\n",
       "    </tr>\n",
       "    <tr>\n",
       "      <th>3</th>\n",
       "      <td>a34133350b0605cb24081843f63176ca</td>\n",
       "      <td>3</td>\n",
       "      <td>1.364121e+09</td>\n",
       "      <td>@jumanjisolar @solartradex @josea_dolera El di...</td>\n",
       "    </tr>\n",
       "    <tr>\n",
       "      <th>4</th>\n",
       "      <td>a34133350b0605cb24081843f63176ca</td>\n",
       "      <td>3</td>\n",
       "      <td>1.364153e+09</td>\n",
       "      <td>“@cesarnayu: https://t.co/J4OTXj1x7w … Por fav...</td>\n",
       "    </tr>\n",
       "    <tr>\n",
       "      <th>...</th>\n",
       "      <td>...</td>\n",
       "      <td>...</td>\n",
       "      <td>...</td>\n",
       "      <td>...</td>\n",
       "    </tr>\n",
       "    <tr>\n",
       "      <th>130024</th>\n",
       "      <td>2a5fcd1034beb5bd30bf5a1528008d81</td>\n",
       "      <td>3</td>\n",
       "      <td>1.633250e+09</td>\n",
       "      <td>Qué maravilla, visitar #LaRioja en #vendimia🍇,...</td>\n",
       "    </tr>\n",
       "    <tr>\n",
       "      <th>130025</th>\n",
       "      <td>1e826d8471835f7feb02f8028b736ebb</td>\n",
       "      <td>2</td>\n",
       "      <td>1.633250e+09</td>\n",
       "      <td>“Querido Pablo, nos complace tu voluntad de re...</td>\n",
       "    </tr>\n",
       "    <tr>\n",
       "      <th>130026</th>\n",
       "      <td>aeaa6ce266f823338e7d2222032a9edd</td>\n",
       "      <td>3</td>\n",
       "      <td>1.633250e+09</td>\n",
       "      <td>Quiero reivindicar la buena política, la de fr...</td>\n",
       "    </tr>\n",
       "    <tr>\n",
       "      <th>130027</th>\n",
       "      <td>aeaa6ce266f823338e7d2222032a9edd</td>\n",
       "      <td>3</td>\n",
       "      <td>1.633250e+09</td>\n",
       "      <td>🙋🏻‍♀️El pasado viernes se cumplió el aniversar...</td>\n",
       "    </tr>\n",
       "    <tr>\n",
       "      <th>130028</th>\n",
       "      <td>1e826d8471835f7feb02f8028b736ebb</td>\n",
       "      <td>2</td>\n",
       "      <td>1.633250e+09</td>\n",
       "      <td>“Para nosotros la cuestión no es Europa sí o n...</td>\n",
       "    </tr>\n",
       "  </tbody>\n",
       "</table>\n",
       "<p>129651 rows × 4 columns</p>\n",
       "</div>"
      ],
      "text/plain": [
       "                                  cuenta  partido     timestamp  \\\n",
       "0       a34133350b0605cb24081843f63176ca        3  1.363973e+09   \n",
       "1       a34133350b0605cb24081843f63176ca        3  1.364061e+09   \n",
       "2       a34133350b0605cb24081843f63176ca        3  1.364117e+09   \n",
       "3       a34133350b0605cb24081843f63176ca        3  1.364121e+09   \n",
       "4       a34133350b0605cb24081843f63176ca        3  1.364153e+09   \n",
       "...                                  ...      ...           ...   \n",
       "130024  2a5fcd1034beb5bd30bf5a1528008d81        3  1.633250e+09   \n",
       "130025  1e826d8471835f7feb02f8028b736ebb        2  1.633250e+09   \n",
       "130026  aeaa6ce266f823338e7d2222032a9edd        3  1.633250e+09   \n",
       "130027  aeaa6ce266f823338e7d2222032a9edd        3  1.633250e+09   \n",
       "130028  1e826d8471835f7feb02f8028b736ebb        2  1.633250e+09   \n",
       "\n",
       "                                                    tweet  \n",
       "0       @vesteve3 @manubenas @ccoo_rm @desobediencia_ ...  \n",
       "1       “@kirovast: @Hugo_Moran muy fan de la \"radical...  \n",
       "2       @ALTAS_PRESIONES Nuevos dueños para las renova...  \n",
       "3       @jumanjisolar @solartradex @josea_dolera El di...  \n",
       "4       “@cesarnayu: https://t.co/J4OTXj1x7w … Por fav...  \n",
       "...                                                   ...  \n",
       "130024  Qué maravilla, visitar #LaRioja en #vendimia🍇,...  \n",
       "130025  “Querido Pablo, nos complace tu voluntad de re...  \n",
       "130026  Quiero reivindicar la buena política, la de fr...  \n",
       "130027  🙋🏻‍♀️El pasado viernes se cumplió el aniversar...  \n",
       "130028  “Para nosotros la cuestión no es Europa sí o n...  \n",
       "\n",
       "[129651 rows x 4 columns]"
      ]
     },
     "execution_count": 18,
     "metadata": {},
     "output_type": "execute_result"
    }
   ],
   "source": [
    "#Label enconding para variable objetivo\n",
    "my_label = preprocessing.LabelEncoder()   \n",
    "df_final['partido']=my_label.fit_transform(df_final['partido'])   \n",
    "df_final"
   ]
  },
  {
   "cell_type": "markdown",
   "id": "805d03f7",
   "metadata": {},
   "source": [
    "# Separacion del dataframe en train  y test "
   ]
  },
  {
   "cell_type": "code",
   "execution_count": 19,
   "id": "7b85834c",
   "metadata": {},
   "outputs": [],
   "source": [
    "test = pd.DataFrame()\n",
    "train = df_final\n",
    "size = round(round(df_final.shape[0]*0.2)/5)\n",
    "for typ in list(df_final['partido'].dropna().unique()):\n",
    "    samples = df_final[df_final['partido'] == typ].sample(size)\n",
    "    test = test.append(samples)\n",
    "    train = train.drop(samples.index)\n",
    "test = test.reset_index()\n",
    "train = train.reset_index()"
   ]
  },
  {
   "cell_type": "markdown",
   "id": "3b6cbe39",
   "metadata": {},
   "source": [
    "## Dataframe de test"
   ]
  },
  {
   "cell_type": "code",
   "execution_count": 20,
   "id": "966a0788",
   "metadata": {},
   "outputs": [
    {
     "data": {
      "text/html": [
       "<div>\n",
       "<style scoped>\n",
       "    .dataframe tbody tr th:only-of-type {\n",
       "        vertical-align: middle;\n",
       "    }\n",
       "\n",
       "    .dataframe tbody tr th {\n",
       "        vertical-align: top;\n",
       "    }\n",
       "\n",
       "    .dataframe thead th {\n",
       "        text-align: right;\n",
       "    }\n",
       "</style>\n",
       "<table border=\"1\" class=\"dataframe\">\n",
       "  <thead>\n",
       "    <tr style=\"text-align: right;\">\n",
       "      <th></th>\n",
       "      <th>index</th>\n",
       "      <th>cuenta</th>\n",
       "      <th>partido</th>\n",
       "      <th>timestamp</th>\n",
       "      <th>tweet</th>\n",
       "    </tr>\n",
       "  </thead>\n",
       "  <tbody>\n",
       "    <tr>\n",
       "      <th>0</th>\n",
       "      <td>13158</td>\n",
       "      <td>aeaa6ce266f823338e7d2222032a9edd</td>\n",
       "      <td>3</td>\n",
       "      <td>1.564036e+09</td>\n",
       "      <td>📺@carmencalvo_ en @EspejoPublico: Siempre hemo...</td>\n",
       "    </tr>\n",
       "    <tr>\n",
       "      <th>1</th>\n",
       "      <td>29754</td>\n",
       "      <td>aeaa6ce266f823338e7d2222032a9edd</td>\n",
       "      <td>3</td>\n",
       "      <td>1.572524e+09</td>\n",
       "      <td>🗣️ @NadiaCalvino en @DebatAlRojoVivo: Tenemos ...</td>\n",
       "    </tr>\n",
       "    <tr>\n",
       "      <th>2</th>\n",
       "      <td>54260</td>\n",
       "      <td>b01d435b24a17890fb701cef5253cc06</td>\n",
       "      <td>3</td>\n",
       "      <td>1.582285e+09</td>\n",
       "      <td>Intensa actividad de reuniones en Bruselas en ...</td>\n",
       "    </tr>\n",
       "    <tr>\n",
       "      <th>3</th>\n",
       "      <td>99718</td>\n",
       "      <td>aeaa6ce266f823338e7d2222032a9edd</td>\n",
       "      <td>3</td>\n",
       "      <td>1.620375e+09</td>\n",
       "      <td>Es ineludible la transformación del modelo pro...</td>\n",
       "    </tr>\n",
       "    <tr>\n",
       "      <th>4</th>\n",
       "      <td>101686</td>\n",
       "      <td>fdce0be92377e5874e04584c4eac7461</td>\n",
       "      <td>3</td>\n",
       "      <td>1.621235e+09</td>\n",
       "      <td>Dos millones y medio largo de vacunas en una s...</td>\n",
       "    </tr>\n",
       "    <tr>\n",
       "      <th>...</th>\n",
       "      <td>...</td>\n",
       "      <td>...</td>\n",
       "      <td>...</td>\n",
       "      <td>...</td>\n",
       "      <td>...</td>\n",
       "    </tr>\n",
       "    <tr>\n",
       "      <th>25925</th>\n",
       "      <td>16738</td>\n",
       "      <td>8fbbab0ad3015a97ca31cefec4bba92a</td>\n",
       "      <td>1</td>\n",
       "      <td>1.567143e+09</td>\n",
       "      <td>Todo mi apoyo a los compañeros y compañeras en...</td>\n",
       "    </tr>\n",
       "    <tr>\n",
       "      <th>25926</th>\n",
       "      <td>113315</td>\n",
       "      <td>4102f38acd405df5e9c62e37a81e21fd</td>\n",
       "      <td>1</td>\n",
       "      <td>1.625993e+09</td>\n",
       "      <td>Mis condolencias a familiares y personas cerca...</td>\n",
       "    </tr>\n",
       "    <tr>\n",
       "      <th>25927</th>\n",
       "      <td>11903</td>\n",
       "      <td>826c875d34abcc10338dfe7f9db7ac3e</td>\n",
       "      <td>1</td>\n",
       "      <td>1.563388e+09</td>\n",
       "      <td>1. Mucho hablar de democratizar la UE pero @vo...</td>\n",
       "    </tr>\n",
       "    <tr>\n",
       "      <th>25928</th>\n",
       "      <td>69946</td>\n",
       "      <td>1d2650bd15db33115502411d5790c9df</td>\n",
       "      <td>1</td>\n",
       "      <td>1.607070e+09</td>\n",
       "      <td>El derecho a la vivienda no puede ser un privi...</td>\n",
       "    </tr>\n",
       "    <tr>\n",
       "      <th>25929</th>\n",
       "      <td>129753</td>\n",
       "      <td>91c37cd9b641d5b5845be4a835d8db5a</td>\n",
       "      <td>1</td>\n",
       "      <td>1.633165e+09</td>\n",
       "      <td>Ayer en La Palma constituimos la mesa de coord...</td>\n",
       "    </tr>\n",
       "  </tbody>\n",
       "</table>\n",
       "<p>25930 rows × 5 columns</p>\n",
       "</div>"
      ],
      "text/plain": [
       "        index                            cuenta  partido     timestamp  \\\n",
       "0       13158  aeaa6ce266f823338e7d2222032a9edd        3  1.564036e+09   \n",
       "1       29754  aeaa6ce266f823338e7d2222032a9edd        3  1.572524e+09   \n",
       "2       54260  b01d435b24a17890fb701cef5253cc06        3  1.582285e+09   \n",
       "3       99718  aeaa6ce266f823338e7d2222032a9edd        3  1.620375e+09   \n",
       "4      101686  fdce0be92377e5874e04584c4eac7461        3  1.621235e+09   \n",
       "...       ...                               ...      ...           ...   \n",
       "25925   16738  8fbbab0ad3015a97ca31cefec4bba92a        1  1.567143e+09   \n",
       "25926  113315  4102f38acd405df5e9c62e37a81e21fd        1  1.625993e+09   \n",
       "25927   11903  826c875d34abcc10338dfe7f9db7ac3e        1  1.563388e+09   \n",
       "25928   69946  1d2650bd15db33115502411d5790c9df        1  1.607070e+09   \n",
       "25929  129753  91c37cd9b641d5b5845be4a835d8db5a        1  1.633165e+09   \n",
       "\n",
       "                                                   tweet  \n",
       "0      📺@carmencalvo_ en @EspejoPublico: Siempre hemo...  \n",
       "1      🗣️ @NadiaCalvino en @DebatAlRojoVivo: Tenemos ...  \n",
       "2      Intensa actividad de reuniones en Bruselas en ...  \n",
       "3      Es ineludible la transformación del modelo pro...  \n",
       "4      Dos millones y medio largo de vacunas en una s...  \n",
       "...                                                  ...  \n",
       "25925  Todo mi apoyo a los compañeros y compañeras en...  \n",
       "25926  Mis condolencias a familiares y personas cerca...  \n",
       "25927  1. Mucho hablar de democratizar la UE pero @vo...  \n",
       "25928  El derecho a la vivienda no puede ser un privi...  \n",
       "25929  Ayer en La Palma constituimos la mesa de coord...  \n",
       "\n",
       "[25930 rows x 5 columns]"
      ]
     },
     "execution_count": 20,
     "metadata": {},
     "output_type": "execute_result"
    }
   ],
   "source": [
    "test"
   ]
  },
  {
   "cell_type": "code",
   "execution_count": 21,
   "id": "b0103278",
   "metadata": {},
   "outputs": [
    {
     "name": "stderr",
     "output_type": "stream",
     "text": [
      "C:\\Users\\edgui\\anaconda3\\lib\\site-packages\\seaborn\\_decorators.py:36: FutureWarning: Pass the following variables as keyword args: x, y. From version 0.12, the only valid positional argument will be `data`, and passing other arguments without an explicit keyword will result in an error or misinterpretation.\n",
      "  warnings.warn(\n"
     ]
    },
    {
     "data": {
      "image/png": "[encoded data removed]",
      "text/plain": [
       "<Figure size 1080x360 with 1 Axes>"
      ]
     },
     "metadata": {
      "needs_background": "light"
     },
     "output_type": "display_data"
    }
   ],
   "source": [
    "tweet_by_class_test = test.groupby(\"partido\", as_index=False)['tweet'].count()\n",
    "\n",
    "plt.figure(figsize=(15,5))\n",
    "sns.barplot(tweet_by_class_test['partido'].values, tweet_by_class_test['tweet'].values, alpha=0.8)\n",
    "plt.title('Class Frequency by tweet for test')\n",
    "plt.ylabel('tweet', fontsize=10)\n",
    "plt.xlabel('partido', fontsize=10)\n",
    "plt.show()"
   ]
  },
  {
   "cell_type": "markdown",
   "id": "cfea972d",
   "metadata": {},
   "source": [
    "## Dataframe de train"
   ]
  },
  {
   "cell_type": "code",
   "execution_count": 24,
   "id": "11446e7c",
   "metadata": {},
   "outputs": [
    {
     "data": {
      "text/html": [
       "<div>\n",
       "<style scoped>\n",
       "    .dataframe tbody tr th:only-of-type {\n",
       "        vertical-align: middle;\n",
       "    }\n",
       "\n",
       "    .dataframe tbody tr th {\n",
       "        vertical-align: top;\n",
       "    }\n",
       "\n",
       "    .dataframe thead th {\n",
       "        text-align: right;\n",
       "    }\n",
       "</style>\n",
       "<table border=\"1\" class=\"dataframe\">\n",
       "  <thead>\n",
       "    <tr style=\"text-align: right;\">\n",
       "      <th></th>\n",
       "      <th>index</th>\n",
       "      <th>cuenta</th>\n",
       "      <th>partido</th>\n",
       "      <th>timestamp</th>\n",
       "      <th>tweet</th>\n",
       "    </tr>\n",
       "  </thead>\n",
       "  <tbody>\n",
       "    <tr>\n",
       "      <th>0</th>\n",
       "      <td>0</td>\n",
       "      <td>a34133350b0605cb24081843f63176ca</td>\n",
       "      <td>3</td>\n",
       "      <td>1.363973e+09</td>\n",
       "      <td>@vesteve3 @manubenas @ccoo_rm @desobediencia_ ...</td>\n",
       "    </tr>\n",
       "    <tr>\n",
       "      <th>1</th>\n",
       "      <td>1</td>\n",
       "      <td>a34133350b0605cb24081843f63176ca</td>\n",
       "      <td>3</td>\n",
       "      <td>1.364061e+09</td>\n",
       "      <td>“@kirovast: @Hugo_Moran muy fan de la \"radical...</td>\n",
       "    </tr>\n",
       "    <tr>\n",
       "      <th>2</th>\n",
       "      <td>2</td>\n",
       "      <td>a34133350b0605cb24081843f63176ca</td>\n",
       "      <td>3</td>\n",
       "      <td>1.364117e+09</td>\n",
       "      <td>@ALTAS_PRESIONES Nuevos dueños para las renova...</td>\n",
       "    </tr>\n",
       "    <tr>\n",
       "      <th>3</th>\n",
       "      <td>3</td>\n",
       "      <td>a34133350b0605cb24081843f63176ca</td>\n",
       "      <td>3</td>\n",
       "      <td>1.364121e+09</td>\n",
       "      <td>@jumanjisolar @solartradex @josea_dolera El di...</td>\n",
       "    </tr>\n",
       "    <tr>\n",
       "      <th>4</th>\n",
       "      <td>4</td>\n",
       "      <td>a34133350b0605cb24081843f63176ca</td>\n",
       "      <td>3</td>\n",
       "      <td>1.364153e+09</td>\n",
       "      <td>“@cesarnayu: https://t.co/J4OTXj1x7w … Por fav...</td>\n",
       "    </tr>\n",
       "    <tr>\n",
       "      <th>...</th>\n",
       "      <td>...</td>\n",
       "      <td>...</td>\n",
       "      <td>...</td>\n",
       "      <td>...</td>\n",
       "      <td>...</td>\n",
       "    </tr>\n",
       "    <tr>\n",
       "      <th>103716</th>\n",
       "      <td>130022</td>\n",
       "      <td>aeaa6ce266f823338e7d2222032a9edd</td>\n",
       "      <td>3</td>\n",
       "      <td>1.633250e+09</td>\n",
       "      <td>El Presidente del Gobierno, @sanchezcastejon, ...</td>\n",
       "    </tr>\n",
       "    <tr>\n",
       "      <th>103717</th>\n",
       "      <td>130024</td>\n",
       "      <td>2a5fcd1034beb5bd30bf5a1528008d81</td>\n",
       "      <td>3</td>\n",
       "      <td>1.633250e+09</td>\n",
       "      <td>Qué maravilla, visitar #LaRioja en #vendimia🍇,...</td>\n",
       "    </tr>\n",
       "    <tr>\n",
       "      <th>103718</th>\n",
       "      <td>130026</td>\n",
       "      <td>aeaa6ce266f823338e7d2222032a9edd</td>\n",
       "      <td>3</td>\n",
       "      <td>1.633250e+09</td>\n",
       "      <td>Quiero reivindicar la buena política, la de fr...</td>\n",
       "    </tr>\n",
       "    <tr>\n",
       "      <th>103719</th>\n",
       "      <td>130027</td>\n",
       "      <td>aeaa6ce266f823338e7d2222032a9edd</td>\n",
       "      <td>3</td>\n",
       "      <td>1.633250e+09</td>\n",
       "      <td>🙋🏻‍♀️El pasado viernes se cumplió el aniversar...</td>\n",
       "    </tr>\n",
       "    <tr>\n",
       "      <th>103720</th>\n",
       "      <td>130028</td>\n",
       "      <td>1e826d8471835f7feb02f8028b736ebb</td>\n",
       "      <td>2</td>\n",
       "      <td>1.633250e+09</td>\n",
       "      <td>“Para nosotros la cuestión no es Europa sí o n...</td>\n",
       "    </tr>\n",
       "  </tbody>\n",
       "</table>\n",
       "<p>103721 rows × 5 columns</p>\n",
       "</div>"
      ],
      "text/plain": [
       "         index                            cuenta  partido     timestamp  \\\n",
       "0            0  a34133350b0605cb24081843f63176ca        3  1.363973e+09   \n",
       "1            1  a34133350b0605cb24081843f63176ca        3  1.364061e+09   \n",
       "2            2  a34133350b0605cb24081843f63176ca        3  1.364117e+09   \n",
       "3            3  a34133350b0605cb24081843f63176ca        3  1.364121e+09   \n",
       "4            4  a34133350b0605cb24081843f63176ca        3  1.364153e+09   \n",
       "...        ...                               ...      ...           ...   \n",
       "103716  130022  aeaa6ce266f823338e7d2222032a9edd        3  1.633250e+09   \n",
       "103717  130024  2a5fcd1034beb5bd30bf5a1528008d81        3  1.633250e+09   \n",
       "103718  130026  aeaa6ce266f823338e7d2222032a9edd        3  1.633250e+09   \n",
       "103719  130027  aeaa6ce266f823338e7d2222032a9edd        3  1.633250e+09   \n",
       "103720  130028  1e826d8471835f7feb02f8028b736ebb        2  1.633250e+09   \n",
       "\n",
       "                                                    tweet  \n",
       "0       @vesteve3 @manubenas @ccoo_rm @desobediencia_ ...  \n",
       "1       “@kirovast: @Hugo_Moran muy fan de la \"radical...  \n",
       "2       @ALTAS_PRESIONES Nuevos dueños para las renova...  \n",
       "3       @jumanjisolar @solartradex @josea_dolera El di...  \n",
       "4       “@cesarnayu: https://t.co/J4OTXj1x7w … Por fav...  \n",
       "...                                                   ...  \n",
       "103716  El Presidente del Gobierno, @sanchezcastejon, ...  \n",
       "103717  Qué maravilla, visitar #LaRioja en #vendimia🍇,...  \n",
       "103718  Quiero reivindicar la buena política, la de fr...  \n",
       "103719  🙋🏻‍♀️El pasado viernes se cumplió el aniversar...  \n",
       "103720  “Para nosotros la cuestión no es Europa sí o n...  \n",
       "\n",
       "[103721 rows x 5 columns]"
      ]
     },
     "execution_count": 24,
     "metadata": {},
     "output_type": "execute_result"
    }
   ],
   "source": [
    "train"
   ]
  },
  {
   "cell_type": "code",
   "execution_count": 25,
   "id": "3a6d4bd2",
   "metadata": {},
   "outputs": [
    {
     "name": "stderr",
     "output_type": "stream",
     "text": [
      "C:\\Users\\edgui\\anaconda3\\lib\\site-packages\\seaborn\\_decorators.py:36: FutureWarning: Pass the following variables as keyword args: x, y. From version 0.12, the only valid positional argument will be `data`, and passing other arguments without an explicit keyword will result in an error or misinterpretation.\n",
      "  warnings.warn(\n"
     ]
    },
    {
     "data": {
      "image/png": "[encoded data removed]",
      "text/plain": [
       "<Figure size 1080x360 with 1 Axes>"
      ]
     },
     "metadata": {
      "needs_background": "light"
     },
     "output_type": "display_data"
    }
   ],
   "source": [
    "tweet_by_class_test = train.groupby(\"partido\", as_index=False)['tweet'].count()\n",
    "\n",
    "plt.figure(figsize=(15,5))\n",
    "sns.barplot(tweet_by_class_test['partido'].values, tweet_by_class_test['tweet'].values, alpha=0.8)\n",
    "plt.title('Class Frequency by tweet for test')\n",
    "plt.ylabel('tweet', fontsize=10)\n",
    "plt.xlabel('partido', fontsize=10)\n",
    "plt.show()"
   ]
  },
  {
   "cell_type": "markdown",
   "id": "5ce40e14",
   "metadata": {},
   "source": [
    "# Tratamiento de Datos"
   ]
  },
  {
   "cell_type": "markdown",
   "id": "d91b7267",
   "metadata": {},
   "source": [
    "### Limpieza de tweets"
   ]
  },
  {
   "cell_type": "code",
   "execution_count": 26,
   "id": "ko6Mkjj0J2HD",
   "metadata": {
    "id": "ko6Mkjj0J2HD"
   },
   "outputs": [
    {
     "data": {
      "text/plain": [
       "(103721, 103721)"
      ]
     },
     "execution_count": 26,
     "metadata": {},
     "output_type": "execute_result"
    }
   ],
   "source": [
    "#Limpieza de tweets de entrenamiento\n",
    "x_train = [tp.transformer(row) for row in train['tweet'].tolist()]\n",
    "y_train = train[\"partido\"]\n",
    "len(x_train), len(y_train)"
   ]
  },
  {
   "cell_type": "code",
   "execution_count": 27,
   "id": "kdgtcYZ9LBYW",
   "metadata": {
    "id": "kdgtcYZ9LBYW"
   },
   "outputs": [
    {
     "data": {
      "text/plain": [
       "(25930, 25930)"
      ]
     },
     "execution_count": 27,
     "metadata": {},
     "output_type": "execute_result"
    }
   ],
   "source": [
    "#Limpieza de tweets de prueba\n",
    "x_test = [tp.transformer(row) for row in test['tweet'].tolist()]\n",
    "y_test = test[\"partido\"]\n",
    "len(x_test), len(y_test)"
   ]
  },
  {
   "cell_type": "markdown",
   "id": "4f429d43",
   "metadata": {},
   "source": [
    "#### Eliminacion de filas vacias"
   ]
  },
  {
   "cell_type": "code",
   "execution_count": 28,
   "id": "a54baa09",
   "metadata": {},
   "outputs": [],
   "source": [
    "y = 0\n",
    "for i in x_train:\n",
    "    if len(i) < 1:\n",
    "        del x_train[y]\n",
    "        del y_train[y]\n",
    "    y+=1"
   ]
  },
  {
   "cell_type": "code",
   "execution_count": 29,
   "id": "b8d3df85",
   "metadata": {},
   "outputs": [
    {
     "data": {
      "text/plain": [
       "(103719, 103719)"
      ]
     },
     "execution_count": 29,
     "metadata": {},
     "output_type": "execute_result"
    }
   ],
   "source": [
    "len(x_train), len(y_train)"
   ]
  },
  {
   "cell_type": "markdown",
   "id": "9f08a01b",
   "metadata": {},
   "source": [
    "## Técnicas de extracción de características"
   ]
  },
  {
   "cell_type": "code",
   "execution_count": 30,
   "id": "15a17d68",
   "metadata": {},
   "outputs": [],
   "source": [
    "#TF-IDF\n",
    "tfIdfVectorizer=TfidfVectorizer(ngram_range=(3,3), min_df=100, max_df = 0.85, max_features=10000)\n",
    "\n",
    "#Bow of n-gram\n",
    "bow = CountVectorizer(analyzer='word', ngram_range=(3, 3), min_df=100, max_df = 0.85, max_features=10000)"
   ]
  },
  {
   "cell_type": "markdown",
   "id": "1f299d11",
   "metadata": {},
   "source": [
    "### Union de caracteristicas"
   ]
  },
  {
   "cell_type": "code",
   "execution_count": 31,
   "id": "c1fc7b83",
   "metadata": {},
   "outputs": [
    {
     "data": {
      "text/plain": [
       "FeatureUnion(transformer_list=[('tfidf_vector',\n",
       "                                TfidfVectorizer(max_df=0.85, max_features=10000,\n",
       "                                                min_df=100,\n",
       "                                                ngram_range=(3, 3))),\n",
       "                               ('bow',\n",
       "                                CountVectorizer(max_df=0.85, max_features=10000,\n",
       "                                                min_df=100,\n",
       "                                                ngram_range=(3, 3)))])"
      ]
     },
     "execution_count": 31,
     "metadata": {},
     "output_type": "execute_result"
    }
   ],
   "source": [
    "preprocessor = FeatureUnion([\n",
    "    ('tfidf_vector', tfIdfVectorizer),\n",
    "    ('bow', bow)\n",
    "])\n",
    "\n",
    "preprocessor.fit(x_train)"
   ]
  },
  {
   "cell_type": "markdown",
   "id": "973b221b",
   "metadata": {},
   "source": [
    "### Extraccion de caracteristicas"
   ]
  },
  {
   "cell_type": "code",
   "execution_count": 32,
   "id": "b908b385",
   "metadata": {},
   "outputs": [],
   "source": [
    "x_train = preprocessor.transform(x_train)\n",
    "x_test = preprocessor.transform(x_test)"
   ]
  },
  {
   "cell_type": "code",
   "execution_count": 33,
   "id": "1d19d8da",
   "metadata": {},
   "outputs": [
    {
     "name": "stdout",
     "output_type": "stream",
     "text": [
      "**Sample train: [(0, 18268), (1, 19604), (2, 20933), (3, 23598), (4, 21316)]\n",
      "**Sample test: [(0, 5186), (1, 5186), (2, 5186), (3, 5186), (4, 5186)]\n"
     ]
    }
   ],
   "source": [
    "print('**Sample train:', sorted(Counter(y_train).items()))\n",
    "print('**Sample test:', sorted(Counter(y_test).items()))"
   ]
  },
  {
   "cell_type": "markdown",
   "id": "05502520",
   "metadata": {},
   "source": [
    "# Modelos de clasificacion"
   ]
  },
  {
   "cell_type": "markdown",
   "id": "e9afe188",
   "metadata": {},
   "source": [
    "### Modelo SVM"
   ]
  },
  {
   "cell_type": "code",
   "execution_count": 34,
   "id": "df8a4868",
   "metadata": {},
   "outputs": [],
   "source": [
    "svc = svm.SVC(kernel='linear', C=1, max_iter=10000)"
   ]
  },
  {
   "cell_type": "code",
   "execution_count": 35,
   "id": "5bcb85bd",
   "metadata": {
    "scrolled": true
   },
   "outputs": [
    {
     "name": "stderr",
     "output_type": "stream",
     "text": [
      "C:\\Users\\edgui\\anaconda3\\lib\\site-packages\\sklearn\\svm\\_base.py:255: ConvergenceWarning: Solver terminated early (max_iter=10000).  Consider pre-processing your data with StandardScaler or MinMaxScaler.\n",
      "  warnings.warn('Solver terminated early (max_iter=%i).'\n"
     ]
    },
    {
     "data": {
      "text/plain": [
       "SVC(C=1, kernel='linear', max_iter=10000)"
      ]
     },
     "execution_count": 35,
     "metadata": {},
     "output_type": "execute_result"
    }
   ],
   "source": [
    "svc.fit(x_train,y_train)"
   ]
  },
  {
   "cell_type": "code",
   "execution_count": 36,
   "id": "3b41a97e",
   "metadata": {},
   "outputs": [
    {
     "data": {
      "text/plain": [
       "0.30404936367142305"
      ]
     },
     "execution_count": 36,
     "metadata": {},
     "output_type": "execute_result"
    }
   ],
   "source": [
    "svc.score(x_test, y_test)"
   ]
  },
  {
   "cell_type": "markdown",
   "id": "d04ac174",
   "metadata": {},
   "source": [
    "### Modelo Softmax"
   ]
  },
  {
   "cell_type": "code",
   "execution_count": 37,
   "id": "8e94010a",
   "metadata": {},
   "outputs": [],
   "source": [
    "softmax = LogisticRegression(multi_class=\"multinomial\", solver=\"lbfgs\", C=10, max_iter=10000)"
   ]
  },
  {
   "cell_type": "code",
   "execution_count": 38,
   "id": "254e871e",
   "metadata": {},
   "outputs": [
    {
     "data": {
      "text/plain": [
       "LogisticRegression(C=10, max_iter=10000, multi_class='multinomial')"
      ]
     },
     "execution_count": 38,
     "metadata": {},
     "output_type": "execute_result"
    }
   ],
   "source": [
    "softmax.fit(x_train,y_train)"
   ]
  },
  {
   "cell_type": "code",
   "execution_count": 39,
   "id": "b0b93480",
   "metadata": {},
   "outputs": [
    {
     "data": {
      "text/plain": [
       "0.3760123409178558"
      ]
     },
     "execution_count": 39,
     "metadata": {},
     "output_type": "execute_result"
    }
   ],
   "source": [
    "softmax.score(x_test, y_test)"
   ]
  },
  {
   "cell_type": "markdown",
   "id": "f7aba961",
   "metadata": {},
   "source": [
    "# Validacion cruzada"
   ]
  },
  {
   "cell_type": "code",
   "execution_count": 40,
   "id": "49e8885a",
   "metadata": {},
   "outputs": [],
   "source": [
    "k_fold = ShuffleSplit(n_splits=10, test_size=0.25, random_state=42)"
   ]
  },
  {
   "cell_type": "code",
   "execution_count": 41,
   "id": "d16bd0b4",
   "metadata": {},
   "outputs": [],
   "source": [
    "accuracies_scores = []\n",
    "recalls_scores = []\n",
    "precisions_scores = []\n",
    "f1_scores = []"
   ]
  },
  {
   "cell_type": "code",
   "execution_count": 46,
   "id": "edd7d001",
   "metadata": {},
   "outputs": [],
   "source": [
    "y_train=y_train.to_numpy()"
   ]
  },
  {
   "cell_type": "markdown",
   "id": "ce534dbb",
   "metadata": {},
   "source": [
    "### SVM"
   ]
  },
  {
   "cell_type": "code",
   "execution_count": 47,
   "id": "7fec11c0",
   "metadata": {},
   "outputs": [
    {
     "name": "stderr",
     "output_type": "stream",
     "text": [
      "C:\\Users\\edgui\\anaconda3\\lib\\site-packages\\sklearn\\svm\\_base.py:255: ConvergenceWarning: Solver terminated early (max_iter=10000).  Consider pre-processing your data with StandardScaler or MinMaxScaler.\n",
      "  warnings.warn('Solver terminated early (max_iter=%i).'\n",
      "C:\\Users\\edgui\\anaconda3\\lib\\site-packages\\sklearn\\svm\\_base.py:255: ConvergenceWarning: Solver terminated early (max_iter=10000).  Consider pre-processing your data with StandardScaler or MinMaxScaler.\n",
      "  warnings.warn('Solver terminated early (max_iter=%i).'\n",
      "C:\\Users\\edgui\\anaconda3\\lib\\site-packages\\sklearn\\svm\\_base.py:255: ConvergenceWarning: Solver terminated early (max_iter=10000).  Consider pre-processing your data with StandardScaler or MinMaxScaler.\n",
      "  warnings.warn('Solver terminated early (max_iter=%i).'\n",
      "C:\\Users\\edgui\\anaconda3\\lib\\site-packages\\sklearn\\svm\\_base.py:255: ConvergenceWarning: Solver terminated early (max_iter=10000).  Consider pre-processing your data with StandardScaler or MinMaxScaler.\n",
      "  warnings.warn('Solver terminated early (max_iter=%i).'\n",
      "C:\\Users\\edgui\\anaconda3\\lib\\site-packages\\sklearn\\svm\\_base.py:255: ConvergenceWarning: Solver terminated early (max_iter=10000).  Consider pre-processing your data with StandardScaler or MinMaxScaler.\n",
      "  warnings.warn('Solver terminated early (max_iter=%i).'\n",
      "C:\\Users\\edgui\\anaconda3\\lib\\site-packages\\sklearn\\svm\\_base.py:255: ConvergenceWarning: Solver terminated early (max_iter=10000).  Consider pre-processing your data with StandardScaler or MinMaxScaler.\n",
      "  warnings.warn('Solver terminated early (max_iter=%i).'\n",
      "C:\\Users\\edgui\\anaconda3\\lib\\site-packages\\sklearn\\svm\\_base.py:255: ConvergenceWarning: Solver terminated early (max_iter=10000).  Consider pre-processing your data with StandardScaler or MinMaxScaler.\n",
      "  warnings.warn('Solver terminated early (max_iter=%i).'\n",
      "C:\\Users\\edgui\\anaconda3\\lib\\site-packages\\sklearn\\svm\\_base.py:255: ConvergenceWarning: Solver terminated early (max_iter=10000).  Consider pre-processing your data with StandardScaler or MinMaxScaler.\n",
      "  warnings.warn('Solver terminated early (max_iter=%i).'\n",
      "C:\\Users\\edgui\\anaconda3\\lib\\site-packages\\sklearn\\svm\\_base.py:255: ConvergenceWarning: Solver terminated early (max_iter=10000).  Consider pre-processing your data with StandardScaler or MinMaxScaler.\n",
      "  warnings.warn('Solver terminated early (max_iter=%i).'\n",
      "C:\\Users\\edgui\\anaconda3\\lib\\site-packages\\sklearn\\svm\\_base.py:255: ConvergenceWarning: Solver terminated early (max_iter=10000).  Consider pre-processing your data with StandardScaler or MinMaxScaler.\n",
      "  warnings.warn('Solver terminated early (max_iter=%i).'\n"
     ]
    }
   ],
   "source": [
    "for train_index, test_index in k_fold.split(x_train, y_train):\n",
    "    data_train = x_train[train_index]\n",
    "    target_train = y_train[train_index]\n",
    "    \n",
    "    data_test = x_train[test_index]\n",
    "    target_test = y_train[test_index]\n",
    "\n",
    "    svc.fit(data_train, target_train)\n",
    "    predict = svc.predict(data_test)\n",
    "    # Accuracy\n",
    "    accuracy = accuracy_score(target_test, predict)\n",
    "    accuracies_scores.append(accuracy)\n",
    "    # Recall\n",
    "    recall = recall_score(target_test, predict, average='macro')\n",
    "    recalls_scores.append(recall)\n",
    "    # Precision\n",
    "    precision = precision_score(target_test, predict, average='weighted')\n",
    "    precisions_scores.append(precision)\n",
    "    # F1\n",
    "    f1 = f1_score(target_test, predict, average='micro')\n",
    "    f1_scores.append(f1)"
   ]
  },
  {
   "cell_type": "code",
   "execution_count": 48,
   "id": "2e1b104e",
   "metadata": {},
   "outputs": [],
   "source": [
    "average_recall = round(np.mean(recalls_scores) * 100, 2)\n",
    "average_precision = round(np.mean(precisions_scores) * 100, 2)\n",
    "average_f1 = round(np.mean(f1_scores) * 100, 2)\n",
    "average_accuracy = round(np.mean(accuracies_scores) * 100, 2)"
   ]
  },
  {
   "cell_type": "code",
   "execution_count": 50,
   "id": "d94e9bd9",
   "metadata": {},
   "outputs": [],
   "source": [
    "y_predict = []\n",
    "for features in x_test:\n",
    "    features = features.reshape(1, -1)\n",
    "    value = svc.predict(features)[0]\n",
    "    y_predict.append(value)\n",
    "\n",
    "classification = classification_report(y_test, y_predict)\n",
    "confusion = confusion_matrix(y_predict, y_test)"
   ]
  },
  {
   "cell_type": "code",
   "execution_count": 51,
   "id": "26b1ff7c",
   "metadata": {},
   "outputs": [],
   "source": [
    "output_result = {'F1-score': average_f1, 'Accuracy': average_accuracy, 'Recall': average_recall, \n",
    "                 'Precision': average_precision, 'Classification Report\\n': classification, \n",
    "                 'Confusion Matrix\\n': confusion}"
   ]
  },
  {
   "cell_type": "code",
   "execution_count": 52,
   "id": "5f0d4da6",
   "metadata": {},
   "outputs": [
    {
     "name": "stdout",
     "output_type": "stream",
     "text": [
      "F1-score 31.7\n",
      "Accuracy 31.7\n",
      "Recall 31.09\n",
      "Precision 36.68\n",
      "Classification Report\n",
      "               precision    recall  f1-score   support\n",
      "\n",
      "           0       0.36      0.14      0.21      5186\n",
      "           1       0.48      0.17      0.25      5186\n",
      "           2       0.39      0.19      0.25      5186\n",
      "           3       0.33      0.25      0.29      5186\n",
      "           4       0.26      0.79      0.39      5186\n",
      "\n",
      "    accuracy                           0.31     25930\n",
      "   macro avg       0.36      0.31      0.28     25930\n",
      "weighted avg       0.36      0.31      0.28     25930\n",
      "\n",
      "Confusion Matrix\n",
      " [[ 746  302  457  346  236]\n",
      " [ 225  874  218  354  152]\n",
      " [ 493  313  976  385  317]\n",
      " [ 725  856  685 1312  399]\n",
      " [2997 2841 2850 2789 4082]]\n"
     ]
    }
   ],
   "source": [
    "for item, val in output_result.items():\n",
    "    print('{0} {1}'.format(item, val))"
   ]
  },
  {
   "cell_type": "markdown",
   "id": "e786da1c",
   "metadata": {},
   "source": [
    "### Softmax"
   ]
  },
  {
   "cell_type": "code",
   "execution_count": 53,
   "id": "9e9064c5",
   "metadata": {},
   "outputs": [],
   "source": [
    "for train_index, test_index in k_fold.split(x_train, y_train):\n",
    "    data_train = x_train[train_index]\n",
    "    target_train = y_train[train_index]\n",
    "    \n",
    "    data_test = x_train[test_index]\n",
    "    target_test = y_train[test_index]\n",
    "\n",
    "    softmax.fit(data_train, target_train)\n",
    "    predict = softmax.predict(data_test)\n",
    "    # Accuracy\n",
    "    accuracy = accuracy_score(target_test, predict)\n",
    "    accuracies_scores.append(accuracy)\n",
    "    # Recall\n",
    "    recall = recall_score(target_test, predict, average='macro')\n",
    "    recalls_scores.append(recall)\n",
    "    # Precision\n",
    "    precision = precision_score(target_test, predict, average='weighted')\n",
    "    precisions_scores.append(precision)\n",
    "    # F1\n",
    "    f1 = f1_score(target_test, predict, average='micro')\n",
    "    f1_scores.append(f1)"
   ]
  },
  {
   "cell_type": "code",
   "execution_count": 54,
   "id": "8686ae2a",
   "metadata": {},
   "outputs": [],
   "source": [
    "average_recall = round(np.mean(recalls_scores) * 100, 2)\n",
    "average_precision = round(np.mean(precisions_scores) * 100, 2)\n",
    "average_f1 = round(np.mean(f1_scores) * 100, 2)\n",
    "average_accuracy = round(np.mean(accuracies_scores) * 100, 2)"
   ]
  },
  {
   "cell_type": "code",
   "execution_count": 58,
   "id": "35f476fc",
   "metadata": {},
   "outputs": [],
   "source": [
    "y_predict = []\n",
    "for features in x_test:\n",
    "    features = features.reshape(1, -1)\n",
    "    value = softmax.predict(features)[0]\n",
    "    y_predict.append(value)\n",
    "\n",
    "classification = classification_report(y_test, y_predict)\n",
    "confusion = confusion_matrix(y_predict, y_test)"
   ]
  },
  {
   "cell_type": "code",
   "execution_count": 59,
   "id": "1c45a0b2",
   "metadata": {},
   "outputs": [],
   "source": [
    "output_result = {'F1-score': average_f1, 'Accuracy': average_accuracy, 'Recall': average_recall, \n",
    "                 'Precision': average_precision, 'Classification Report\\n': classification, \n",
    "                 'Confusion Matrix\\n': confusion}"
   ]
  },
  {
   "cell_type": "code",
   "execution_count": 60,
   "id": "a38e64c0",
   "metadata": {
    "scrolled": false
   },
   "outputs": [
    {
     "name": "stdout",
     "output_type": "stream",
     "text": [
      "F1-score 34.85\n",
      "Accuracy 34.85\n",
      "Recall 34.32\n",
      "Precision 39.32\n",
      "Classification Report\n",
      "               precision    recall  f1-score   support\n",
      "\n",
      "           0       0.44      0.24      0.31      5186\n",
      "           1       0.46      0.29      0.36      5186\n",
      "           2       0.47      0.29      0.36      5186\n",
      "           3       0.41      0.36      0.38      5186\n",
      "           4       0.29      0.68      0.41      5186\n",
      "\n",
      "    accuracy                           0.37     25930\n",
      "   macro avg       0.41      0.37      0.36     25930\n",
      "weighted avg       0.41      0.37      0.36     25930\n",
      "\n",
      "Confusion Matrix\n",
      " [[1235  378  512  314  369]\n",
      " [ 456 1500  373  537  362]\n",
      " [ 604  372 1528  395  383]\n",
      " [ 690  772  668 1863  550]\n",
      " [2201 2164 2105 2077 3522]]\n"
     ]
    }
   ],
   "source": [
    "for item, val in output_result.items():\n",
    "    print('{0} {1}'.format(item, val))"
   ]
  },
  {
   "cell_type": "code",
   "execution_count": null,
   "id": "427fa828",
   "metadata": {},
   "outputs": [],
   "source": []
  }
 ],
 "metadata": {
  "colab": {
   "collapsed_sections": [],
   "name": "Parcial 2.ipynb",
   "provenance": []
  },
  "interpreter": {
   "hash": "48980605015723d5ded1ab5bf855a6b8de82950ab571bf6186a66efbdc6c6ce9"
  },
  "kernelspec": {
   "display_name": "Python 3",
   "language": "python",
   "name": "python3"
  },
  "language_info": {
   "codemirror_mode": {
    "name": "ipython",
    "version": 3
   },
   "file_extension": ".py",
   "mimetype": "text/x-python",
   "name": "python",
   "nbconvert_exporter": "python",
   "pygments_lexer": "ipython3",
   "version": "3.8.8"
  }
 },
 "nbformat": 4,
 "nbformat_minor": 5
}
